{
 "cells": [
  {
   "cell_type": "markdown",
   "metadata": {},
   "source": [
    "### Put all import statement here "
   ]
  },
  {
   "cell_type": "code",
   "execution_count": 1,
   "metadata": {},
   "outputs": [
    {
     "name": "stderr",
     "output_type": "stream",
     "text": [
      "C:\\Anaconda3\\envs\\DeepLearn\\lib\\site-packages\\h5py\\__init__.py:36: FutureWarning: Conversion of the second argument of issubdtype from `float` to `np.floating` is deprecated. In future, it will be treated as `np.float64 == np.dtype(float).type`.\n",
      "  from ._conv import register_converters as _register_converters\n",
      "Using TensorFlow backend.\n"
     ]
    }
   ],
   "source": [
    "import os\n",
    "#force to use cpu in jupyter notebook, due to GPU memory allocation issue in jupypter\n",
    "os.environ['CUDA_VISIBLE_DEVICES'] = '-1'\n",
    "\n",
    "import imageio\n",
    "import matplotlib.pyplot as plot\n",
    "import numpy as np\n",
    "import seaborn as sns\n",
    "from keras.utils.np_utils import to_categorical \n",
    "from IPython.display import Image\n",
    "from keras.preprocessing.image import ImageDataGenerator\n",
    "from keras.models import Sequential\n",
    "from keras.layers import Dense, Dropout, Flatten, Conv2D, MaxPool2D\n",
    "from keras.optimizers import RMSprop\n",
    "from keras.callbacks import ReduceLROnPlateau\n",
    "from sklearn.model_selection import train_test_split\n",
    "from keras.models import load_model\n",
    "from sklearn.metrics import confusion_matrix\n",
    "from sklearn.metrics import accuracy_score\n",
    "import itertools\n",
    "%matplotlib inline"
   ]
  },
  {
   "cell_type": "markdown",
   "metadata": {},
   "source": [
    "# 1. Prepare data \n",
    "MNIST dataset has a good collection of handwritten digits. Train set has 60,000 rows of data and test set has 10,000 rows of data. The binary data is available at http://yann.lecun.com/exdb/mnist/. <br><br>\n",
    "However, to demostrate the real-life situation where the input is a real image, we have downloaded the png images from this link https://github.com/myleott/mnist_png/blob/master/mnist_png.tar.gz. It extracts the data from binary file and convert into 60,000 train images and 10,000 test images. The images are categorized according to their label"
   ]
  },
  {
   "cell_type": "markdown",
   "metadata": {},
   "source": [
    "Now we are going to use imageio and read on the image. The sample_image is a 28*28 numpy array. To show the image is labelled correctly, we will use matplotlib to visualize the array"
   ]
  },
  {
   "cell_type": "code",
   "execution_count": 2,
   "metadata": {},
   "outputs": [
    {
     "name": "stdout",
     "output_type": "stream",
     "text": [
      "The shape of the sample image:  (28, 28)\n"
     ]
    },
    {
     "data": {
      "image/png": "[encoded data removed]",
      "text/plain": [
       "<IPython.core.display.Image object>"
      ]
     },
     "execution_count": 2,
     "metadata": {},
     "output_type": "execute_result"
    },
    {
     "data": {
      "image/png": "[encoded data removed]",
      "text/plain": [
       "<Figure size 432x288 with 1 Axes>"
      ]
     },
     "metadata": {},
     "output_type": "display_data"
    }
   ],
   "source": [
    "sample_image = imageio.imread('images/train/0/1.png')\n",
    "print(\"The shape of the sample image: \", sample_image.shape)\n",
    "g = plot.imshow(sample_image)\n",
    "Image(\"images/train/0/1.png\")"
   ]
  },
  {
   "cell_type": "markdown",
   "metadata": {},
   "source": [
    "The real image and graph show that this digit is a 0, matched with its label. Now we need to create a method to read all images and its label into numpy. <br> We normalize the data from [0..255] to [0..1]. It will also help CNN to coverg faster. "
   ]
  },
  {
   "cell_type": "code",
   "execution_count": 3,
   "metadata": {},
   "outputs": [
    {
     "name": "stdout",
     "output_type": "stream",
     "text": [
      "Completed images/train/0/, accumulated 5923 images\n",
      "Completed images/train/1/, accumulated 12665 images\n",
      "Completed images/train/2/, accumulated 18623 images\n",
      "Completed images/train/3/, accumulated 24754 images\n",
      "Completed images/train/4/, accumulated 30596 images\n",
      "Completed images/train/5/, accumulated 36017 images\n",
      "Completed images/train/6/, accumulated 41935 images\n",
      "Completed images/train/7/, accumulated 48200 images\n",
      "Completed images/train/8/, accumulated 54051 images\n",
      "Completed images/train/9/, accumulated 60000 images\n",
      "Completed images/test/0/, accumulated 980 images\n",
      "Completed images/test/1/, accumulated 2115 images\n",
      "Completed images/test/2/, accumulated 3147 images\n",
      "Completed images/test/3/, accumulated 4157 images\n",
      "Completed images/test/4/, accumulated 5139 images\n",
      "Completed images/test/5/, accumulated 6031 images\n",
      "Completed images/test/6/, accumulated 6989 images\n",
      "Completed images/test/7/, accumulated 8017 images\n",
      "Completed images/test/8/, accumulated 8991 images\n",
      "Completed images/test/9/, accumulated 10000 images\n"
     ]
    }
   ],
   "source": [
    "train_x = np.empty([60000,28,28])\n",
    "train_y = np.empty([60000], dtype=\"int32\")\n",
    "test_x = np.empty([10000,28,28])\n",
    "test_y = np.empty([10000], dtype=\"int32\")\n",
    "\n",
    "def store_image_to_train_test(index, is_train, image_array, label):\n",
    "    if is_train:\n",
    "        train_x[index] = image_array / 255\n",
    "        train_y[index] = int(label)\n",
    "    else:\n",
    "        test_x[index] = image_array / 255\n",
    "        test_y[index] = int(label)\n",
    "\n",
    "def loop_train_test_image_file(is_train, parent_folder):\n",
    "    index = 0\n",
    "    for i in range (0,10):\n",
    "        folder = parent_folder + \"/\" + str(i) + \"/\"\n",
    "        for filename in os.listdir(folder):\n",
    "            store_image_to_train_test(index, is_train, imageio.imread(folder + filename), i)\n",
    "            index += 1\n",
    "        print(\"Completed \" + folder + \", accumulated \" + str(index) + \" images\")\n",
    "\n",
    "loop_train_test_image_file(True, \"images/train\")\n",
    "loop_train_test_image_file(False, \"images/test\")"
   ]
  },
  {
   "cell_type": "markdown",
   "metadata": {},
   "source": [
    "Below charts show the distribution of class labels in training and test set. Both are them are nearly balanced "
   ]
  },
  {
   "cell_type": "code",
   "execution_count": 5,
   "metadata": {},
   "outputs": [
    {
     "data": {
      "text/plain": [
       "Text(0.5,1,'Training set')"
      ]
     },
     "execution_count": 5,
     "metadata": {},
     "output_type": "execute_result"
    },
    {
     "data": {
      "image/png": "[encoded data removed]",
      "text/plain": [
       "<Figure size 432x288 with 1 Axes>"
      ]
     },
     "metadata": {},
     "output_type": "display_data"
    }
   ],
   "source": [
    "x_pos = ('0','1', '2', '3', '4', '5', '6', '7', '8', '9')\n",
    "plot.bar(x_pos,  np.bincount(train_y), align='center', alpha=0.5)\n",
    "plot.title('Training set')"
   ]
  },
  {
   "cell_type": "code",
   "execution_count": 6,
   "metadata": {},
   "outputs": [
    {
     "data": {
      "text/plain": [
       "Text(0.5,1,'Test set')"
      ]
     },
     "execution_count": 6,
     "metadata": {},
     "output_type": "execute_result"
    },
    {
     "data": {
      "image/png": "[encoded data removed]",
      "text/plain": [
       "<Figure size 432x288 with 1 Axes>"
      ]
     },
     "metadata": {},
     "output_type": "display_data"
    }
   ],
   "source": [
    "plot.bar(x_pos,  np.bincount(test_y), align='center', alpha=0.5)\n",
    "plot.title('Test set')"
   ]
  },
  {
   "cell_type": "markdown",
   "metadata": {},
   "source": [
    "Encode the labels by using one hot encoder. It will convert into 10 binary labels"
   ]
  },
  {
   "cell_type": "code",
   "execution_count": 7,
   "metadata": {
    "collapsed": true
   },
   "outputs": [],
   "source": [
    "train_y = to_categorical(train_y, num_classes = 10)\n",
    "test_y = to_categorical(test_y, num_classes = 10)"
   ]
  },
  {
   "cell_type": "markdown",
   "metadata": {},
   "source": [
    "Keras requires last dimension to represent the channel. For RGB there will be 3 channels. MNIST is a grayscale so it uses only one channel. "
   ]
  },
  {
   "cell_type": "code",
   "execution_count": 7,
   "metadata": {
    "collapsed": true
   },
   "outputs": [],
   "source": [
    "train_x = np.expand_dims(train_x, axis=3)\n",
    "test_x = np.expand_dims(test_x, axis=3)"
   ]
  },
  {
   "cell_type": "code",
   "execution_count": 10,
   "metadata": {},
   "outputs": [
    {
     "data": {
      "image/png": "[encoded data removed]",
      "text/plain": [
       "<Figure size 432x288 with 1 Axes>"
      ]
     },
     "metadata": {},
     "output_type": "display_data"
    }
   ],
   "source": [
    "g = plot.imshow(train_x[0][:,:,0])"
   ]
  },
  {
   "cell_type": "code",
   "execution_count": 10,
   "metadata": {
    "collapsed": true
   },
   "outputs": [],
   "source": [
    "train_x, val_x, train_y, val_y = train_test_split(train_x, train_y, test_size = 0.1, random_state=2)"
   ]
  },
  {
   "cell_type": "markdown",
   "metadata": {},
   "source": [
    "# 2. Modeling"
   ]
  },
  {
   "cell_type": "markdown",
   "metadata": {},
   "source": [
    "Before go into CNN, data augmentation is a key idea to avoid overfitting problem. We can transform our data and make the existing dataset even larger. The purpose is to alter the training data with minor tweeks to simulate the real-life sitatuion because each person may write the same digit in different pattern. <br> <br>\n",
    "<b>For data augmentation, we choosed apply below options randomly to some training images : </b><br/>\n",
    "Randomly Zoom by 15%  <br>\n",
    "Randomly rotates by 10 degrees <br> \n",
    "Randomly shift images horizontally by 15% of the width <br>\n",
    "Randomly shift images vertically by 15% of the height<br>"
   ]
  },
  {
   "cell_type": "code",
   "execution_count": 11,
   "metadata": {
    "collapsed": true
   },
   "outputs": [],
   "source": [
    "datagen = ImageDataGenerator(\n",
    "        featurewise_center=False,\n",
    "        samplewise_center=False,  \n",
    "        featurewise_std_normalization=False,  \n",
    "        samplewise_std_normalization=False,  \n",
    "        zca_whitening=False, \n",
    "        rotation_range=10,  # randomly rotate images in the range\n",
    "        zoom_range = 0.1, # Randomly zoom image \n",
    "        width_shift_range=0.1,  # randomly shift images horizontally (fraction of total width)\n",
    "        height_shift_range=0.1,  # randomly shift images vertically (fraction of total height)\n",
    "        horizontal_flip=False,  \n",
    "        vertical_flip=False)  \n",
    "\n",
    "\n",
    "datagen.fit(train_x)"
   ]
  },
  {
   "cell_type": "markdown",
   "metadata": {},
   "source": [
    "Now we going to define our CNN model. <br> <br>\n",
    "<b>1st and 2nd layer</b>: Convolutional layer (Conv2D). They are like a set of learnable filters. Each filter (or kernel) is an integral component of the layered architecture. In these layers, the kernel size is (5,5). It involves taking patches from the input images size (28x28) equal to that of the kernel (5x5) and convolving between the value in the patch and those in the kernal matrix.<br> <br>\n",
    "<b>3rd layer</b>: Downsampling (pooling) layer. It looks at the 2 neighboring pixels and picks the maximal value. Mainly to reduce the feature map dimensionality for computational efficiency, which can in turn improve actual performance. \n",
    "<br> <br>\n",
    "<b>4th layer</b>: Dropout is a regularization technique to prevent overfitting<br> <br>\n",
    "<b>5th and 6th layer</b>: Convolutional layer with 64 bits filter and 3x3 kernal size<br> <br>\n",
    "<b> 7th layer </b>: Another downsampling (pooling) layer <br> <br>\n",
    "<b> 8th layer </b>: Another dropout layer  <br><br>\n",
    "<b> 9th layer </b>: Flatten layer. It is the process of converting all the resultant 2 dimensional arrays into a single long continuous linear vector.   <br><br>\n",
    "<b> 10th layer </b>: Dense layer for classification  <br><br>\n",
    "<b> 11th layer </b>: Another dropout layer  <br><br>\n",
    "<b> 12th layer </b>: Dense layer for classification, with softmax activation function  <br><br>"
   ]
  },
  {
   "cell_type": "code",
   "execution_count": 12,
   "metadata": {
    "collapsed": true
   },
   "outputs": [],
   "source": [
    "model = Sequential()\n",
    "\n",
    "model.add(Conv2D(filters = 32, kernel_size = (5,5),padding = 'Same', \n",
    "                 activation ='relu', input_shape = (28,28,1)))\n",
    "model.add(Conv2D(filters = 32, kernel_size = (5,5),padding = 'Same', \n",
    "                 activation ='relu'))\n",
    "model.add(MaxPool2D(pool_size=(2,2)))\n",
    "model.add(Dropout(0.25))\n",
    "\n",
    "\n",
    "model.add(Conv2D(filters = 64, kernel_size = (3,3),padding = 'Same', \n",
    "                 activation ='relu'))\n",
    "model.add(Conv2D(filters = 64, kernel_size = (3,3),padding = 'Same', \n",
    "                 activation ='relu'))\n",
    "model.add(MaxPool2D(pool_size=(2,2), strides=(2,2)))\n",
    "model.add(Dropout(0.25))\n",
    "\n",
    "\n",
    "model.add(Flatten())\n",
    "model.add(Dense(256, activation = \"relu\"))\n",
    "model.add(Dropout(0.5))\n",
    "model.add(Dense(10, activation = \"softmax\"))"
   ]
  },
  {
   "cell_type": "markdown",
   "metadata": {},
   "source": [
    "Next thing is to defines an optimizer, a score function and a loss function. RMSprop is a very effective optimizer. We use \"categorical_crossentropy\" as our loss function and \"accuracy\" as our score function"
   ]
  },
  {
   "cell_type": "code",
   "execution_count": 13,
   "metadata": {
    "collapsed": true
   },
   "outputs": [],
   "source": [
    "optimizer = RMSprop(lr=0.001, rho=0.9, epsilon=1e-08, decay=0.0)\n",
    "model.compile(optimizer = optimizer , loss = \"categorical_crossentropy\", metrics=[\"accuracy\"])"
   ]
  },
  {
   "cell_type": "markdown",
   "metadata": {},
   "source": [
    "Annealer help to reduce learning rate to reach the global minimum of the loss function"
   ]
  },
  {
   "cell_type": "code",
   "execution_count": 14,
   "metadata": {
    "collapsed": true
   },
   "outputs": [],
   "source": [
    "annealer = ReduceLROnPlateau(monitor='val_acc', \n",
    "                             patience=3, \n",
    "                             verbose=1, \n",
    "                             factor=0.5, \n",
    "                             min_lr=0.00001)"
   ]
  },
  {
   "cell_type": "markdown",
   "metadata": {},
   "source": [
    "Let run our model and train it! "
   ]
  },
  {
   "cell_type": "code",
   "execution_count": null,
   "metadata": {},
   "outputs": [
    {
     "name": "stdout",
     "output_type": "stream",
     "text": [
      "Epoch 1/1\n"
     ]
    }
   ],
   "source": [
    "history = model.fit_generator(datagen.flow(train_x,train_y, batch_size=86),\n",
    "                              epochs = 40, validation_data = (val_x,val_y),\n",
    "                              verbose = 2, steps_per_epoch=train_x.shape[0] // 86\n",
    "                              , callbacks=[annealer])"
   ]
  },
  {
   "cell_type": "markdown",
   "metadata": {},
   "source": [
    "In jupyter notebook, it has issue in GPU memory allocation. Training on CPU will take much longer time. We can run the py file seperately, train the model save it and load the model at here"
   ]
  },
  {
   "cell_type": "code",
   "execution_count": 16,
   "metadata": {
    "collapsed": true
   },
   "outputs": [],
   "source": [
    "model = load_model(\"mnist.h5\")"
   ]
  },
  {
   "cell_type": "markdown",
   "metadata": {},
   "source": [
    "# 3. Evaluate the model\n",
    "Let see the accuracy and confusion matrix"
   ]
  },
  {
   "cell_type": "code",
   "execution_count": 23,
   "metadata": {},
   "outputs": [
    {
     "data": {
      "image/png": "[encoded data removed]",
      "text/plain": [
       "<Figure size 432x288 with 2 Axes>"
      ]
     },
     "metadata": {},
     "output_type": "display_data"
    }
   ],
   "source": [
    "# Look at confusion matrix \n",
    "\n",
    "def plot_confusion_matrix(cm, classes,\n",
    "                          normalize=False,\n",
    "                          title='Confusion matrix',\n",
    "                          cmap=plot.cm.Blues):\n",
    "    \"\"\"\n",
    "    This function prints and plots the confusion matrix.\n",
    "    Normalization can be applied by setting `normalize=True`.\n",
    "    \"\"\"\n",
    "    plot.imshow(cm, interpolation='nearest', cmap=cmap)\n",
    "    plot.title(title)\n",
    "    plot.colorbar()\n",
    "    tick_marks = np.arange(len(classes))\n",
    "    plot.xticks(tick_marks, classes, rotation=45)\n",
    "    plot.yticks(tick_marks, classes)\n",
    "\n",
    "    if normalize:\n",
    "        cm = cm.astype('float') / cm.sum(axis=1)[:, np.newaxis]\n",
    "\n",
    "    thresh = cm.max() / 2.\n",
    "    for i, j in itertools.product(range(cm.shape[0]), range(cm.shape[1])):\n",
    "        plot.text(j, i, cm[i, j],\n",
    "                 horizontalalignment=\"center\",\n",
    "                 color=\"white\" if cm[i, j] > thresh else \"black\")\n",
    "\n",
    "    plot.tight_layout()\n",
    "    plot.ylabel('True label')\n",
    "    plot.xlabel('Predicted label')\n",
    "\n",
    "# Predict the values from the validation dataset\n",
    "pred_y = model.predict(test_x)\n",
    "# Convert predictions classes to one hot vectors \n",
    "pred_classes_y = np.argmax(pred_y,axis = 1) \n",
    "# Convert validation observations to one hot vectors\n",
    "actual_y = np.argmax(test_y,axis = 1) \n",
    "# compute the confusion matrix\n",
    "confusion_mtx = confusion_matrix(actual_y, pred_classes_y) \n",
    "# plot the confusion matrix\n",
    "plot_confusion_matrix(confusion_mtx, classes = range(10)) "
   ]
  },
  {
   "cell_type": "code",
   "execution_count": 25,
   "metadata": {},
   "outputs": [
    {
     "data": {
      "text/plain": [
       "0.9958"
      ]
     },
     "execution_count": 25,
     "metadata": {},
     "output_type": "execute_result"
    }
   ],
   "source": [
    "accuracy_score(actual_y, pred_classes_y) "
   ]
  },
  {
   "cell_type": "markdown",
   "metadata": {},
   "source": [
    "Check the predicted label for one of the example"
   ]
  },
  {
   "cell_type": "code",
   "execution_count": 31,
   "metadata": {},
   "outputs": [
    {
     "name": "stdout",
     "output_type": "stream",
     "text": [
      "Predicted:  0\n"
     ]
    },
    {
     "data": {
      "text/plain": [
       "<matplotlib.image.AxesImage at 0x17f0f88ccc0>"
      ]
     },
     "execution_count": 31,
     "metadata": {},
     "output_type": "execute_result"
    },
    {
     "data": {
      "image/png": "[encoded data removed]",
      "text/plain": [
       "<Figure size 432x288 with 1 Axes>"
      ]
     },
     "metadata": {},
     "output_type": "display_data"
    }
   ],
   "source": [
    "print(\"Predicted: \", pred_classes_y[0])\n",
    "plot.imshow(test_x[0][:,:,0])"
   ]
  },
  {
   "cell_type": "code",
   "execution_count": null,
   "metadata": {
    "collapsed": true
   },
   "outputs": [],
   "source": []
  }
 ],
 "metadata": {
  "kernelspec": {
   "display_name": "Python 3",
   "language": "python",
   "name": "python3"
  },
  "language_info": {
   "codemirror_mode": {
    "name": "ipython",
    "version": 3
   },
   "file_extension": ".py",
   "mimetype": "text/x-python",
   "name": "python",
   "nbconvert_exporter": "python",
   "pygments_lexer": "ipython3",
   "version": "3.5.4"
  }
 },
 "nbformat": 4,
 "nbformat_minor": 2
}
